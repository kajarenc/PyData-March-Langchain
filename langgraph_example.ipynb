{
 "cells": [
  {
   "cell_type": "markdown",
   "metadata": {},
   "source": [
    "<img src=\"agent_loop.png\" width=\"700\"/>"
   ]
  },
  {
   "cell_type": "markdown",
   "metadata": {},
   "source": [
    "<img src=\"simpleagent.png\" width=\"700\"/>"
   ]
  },
  {
   "cell_type": "code",
   "execution_count": 1,
   "metadata": {},
   "outputs": [],
   "source": [
    "from langchain_community.tools.tavily_search import TavilySearchResults\n",
    "from langchain.agents import tool\n",
    "\n",
    "\n",
    "@tool\n",
    "def reverse_text(text: str) -> str:\n",
    "    \"\"\"Reverses the input text.\"\"\"\n",
    "    return text[::-1]\n",
    "\n",
    "tools = [\n",
    "    TavilySearchResults(max_results=2),\n",
    "    reverse_text\n",
    "]"
   ]
  },
  {
   "cell_type": "markdown",
   "metadata": {},
   "source": [
    "Add visualization for possible tools"
   ]
  },
  {
   "cell_type": "code",
   "execution_count": 2,
   "metadata": {},
   "outputs": [],
   "source": [
    "from langgraph.prebuilt import ToolExecutor\n",
    "\n",
    "tool_executor = ToolExecutor(tools)"
   ]
  },
  {
   "cell_type": "code",
   "execution_count": 3,
   "metadata": {},
   "outputs": [],
   "source": [
    "from langchain_openai import ChatOpenAI\n",
    "\n",
    "model = ChatOpenAI(temperature=0)"
   ]
  },
  {
   "cell_type": "code",
   "execution_count": 4,
   "metadata": {},
   "outputs": [],
   "source": [
    "from langchain_core.utils.function_calling import convert_to_openai_function\n",
    "\n",
    "functions = [convert_to_openai_function(t) for t in tools]"
   ]
  },
  {
   "cell_type": "code",
   "execution_count": 8,
   "metadata": {},
   "outputs": [
    {
     "name": "stdout",
     "output_type": "stream",
     "text": [
      "{'name': 'tavily_search_results_json', 'description': 'A search engine optimized for comprehensive, accurate, and trusted results. Useful for when you need to answer questions about current events. Input should be a search query.', 'parameters': {'type': 'object', 'properties': {'query': {'description': 'search query to look up', 'type': 'string'}}, 'required': ['query']}}\n"
     ]
    }
   ],
   "source": [
    "print(functions[0])"
   ]
  },
  {
   "cell_type": "code",
   "execution_count": 9,
   "metadata": {},
   "outputs": [],
   "source": [
    "model = model.bind_functions(functions)"
   ]
  },
  {
   "cell_type": "code",
   "execution_count": 11,
   "metadata": {},
   "outputs": [],
   "source": [
    "from typing import TypedDict, Annotated, Sequence\n",
    "import operator\n",
    "from langchain_core.messages import BaseMessage\n",
    "from langgraph.prebuilt import ToolInvocation\n",
    "import json\n",
    "from langchain_core.messages import FunctionMessage\n",
    "\n",
    "\n",
    "class AgentState(TypedDict):\n",
    "    messages: Annotated[Sequence[BaseMessage], operator.add]\n",
    "\n",
    "\n",
    "# Define the function that determines whether to continue or not\n",
    "def should_continue(state):\n",
    "    messages = state['messages']\n",
    "    last_message = messages[-1]\n",
    "    # If there is no function call, then we finish\n",
    "    if \"function_call\" not in last_message.additional_kwargs:\n",
    "        return \"end\"\n",
    "    # Otherwise if there is, we continue\n",
    "    else:\n",
    "        return \"continue\"\n",
    "    \n",
    "# Define the function that calls the model\n",
    "def call_model(state):\n",
    "    messages = state['messages']\n",
    "    response = model.invoke(messages)\n",
    "    # We return a list, because this will get added to the existing list\n",
    "    return {\"messages\": [response]}\n",
    "\n",
    "# Define the function to execute tools\n",
    "def call_tool(state):\n",
    "    messages = state['messages']\n",
    "    # Based on the continue condition\n",
    "    # we know the last message involves a function call\n",
    "    last_message = messages[-1]\n",
    "    # We construct an ToolInvocation from the function_call\n",
    "    action = ToolInvocation(\n",
    "        tool=last_message.additional_kwargs[\"function_call\"][\"name\"],\n",
    "        tool_input=json.loads(last_message.additional_kwargs[\"function_call\"][\"arguments\"]),\n",
    "    )\n",
    "    # We call the tool_executor and get back a response\n",
    "    response = tool_executor.invoke(action)\n",
    "    # We use the response to create a FunctionMessage\n",
    "    function_message = FunctionMessage(content=str(response), name=action.tool)\n",
    "    # We return a list, because this will get added to the existing list\n",
    "    return {\"messages\": [function_message]}"
   ]
  },
  {
   "cell_type": "code",
   "execution_count": 12,
   "metadata": {},
   "outputs": [],
   "source": [
    "from langgraph.graph import StateGraph, END\n",
    "# Define a new graph\n",
    "workflow = StateGraph(AgentState)\n",
    "\n",
    "# Define the two nodes we will cycle between\n",
    "workflow.add_node(\"agent\", call_model)\n",
    "workflow.add_node(\"action\", call_tool)\n",
    "\n",
    "# Set the entrypoint as `agent`\n",
    "# This means that this node is the first one called\n",
    "workflow.set_entry_point(\"agent\")\n",
    "\n",
    "# We now add a conditional edges\n",
    "workflow.add_conditional_edges(\n",
    "    # First, we define the start node. We use `agent`.\n",
    "    # This means these are the edges taken after the `agent` node is called.\n",
    "    \"agent\",\n",
    "    # Next, we pass in the function that will determine which node is called next.\n",
    "    should_continue,\n",
    "    # Finally we pass in a mapping.\n",
    "    # The keys are strings, and the values are other nodes.\n",
    "    # END is a special node marking that the graph should finish.\n",
    "    # What will happen is we will call `should_continue`, and then the output of that\n",
    "    # will be matched against the keys in this mapping.\n",
    "    # Based on which one it matches, that node will then be called.\n",
    "    {\n",
    "        # If `tools`, then we call the tool node.\n",
    "        \"continue\": \"action\",\n",
    "        # Otherwise we finish.\n",
    "        \"end\": END\n",
    "    }\n",
    ")\n",
    "\n",
    "# We now add a normal edge from `tools` to `agent`.\n",
    "# This means that after `tools` is called, `agent` node is called next.\n",
    "workflow.add_edge('action', 'agent')\n",
    "\n",
    "# Finally, we compile it!\n",
    "# This compiles it into a LangChain Runnable,\n",
    "# meaning you can use it as you would any other runnable\n",
    "app = workflow.compile()"
   ]
  },
  {
   "cell_type": "code",
   "execution_count": 18,
   "metadata": {},
   "outputs": [
    {
     "data": {
      "text/plain": [
       "{'messages': [HumanMessage(content='Who is the current president of the Armenia? Please reverse the name'),\n",
       "  AIMessage(content='', additional_kwargs={'function_call': {'arguments': '{\"query\":\"current president of Armenia\"}', 'name': 'tavily_search_results_json'}}, response_metadata={'token_usage': {'completion_tokens': 21, 'prompt_tokens': 125, 'total_tokens': 146}, 'model_name': 'gpt-3.5-turbo', 'system_fingerprint': 'fp_3bc1b5746c', 'finish_reason': 'function_call', 'logprobs': None}),\n",
       "  FunctionMessage(content='[{\\'url\\': \\'https://en.wikipedia.org/wiki/President_of_Armenia\\', \\'content\\': \\'If the Constitutional Court concludes that there are no grounds for impeaching the president of the Republic the impeachment is removed from the agenda of the National Assembly.\\\\nHealth issues[edit]\\\\nIn case of serious illness of the president of the Republic or other insurmountable obstacles which make it impossible for the President to perform their responsibilities, the National Assembly, upon the recommendation of the Government, the conclusion of the Constitutional Court and with a minimum of two-thirds majority vote of the total number of its members, adopts a decision that states the incapacity of the president of the Republic to discharge their powers. According to Article 111 of the constitution the president is the one who can call a referendum to make amendments in the Constitution of the Republic of Armenia[11]\\\\nThe president of the Republic accepts the resignation of the Government only in one of the following days/cases:\\\\nAfter the acceptance of the resignation of the Government by the president of the Republic the members of the Government continue performing their responsibilities until the new Government is formed.\\\\n In National Assembly\\\\\\'s special session the President should swear the following oath to the people \"Assuming the office of the President of the Republic of Armenia I swear to fulfill the requirements of the Constitution in an unreserved manner, to respect fundamental human and civil rights and freedoms, to ensure the protection, independence, territorial integrity and security of the Republic to the glory of the Republic of Armenia and to the welfare of the people of the Republic of Armenia\".[7]\\\\nConstitutional powers and duties[edit]\\\\n The content of the declaration of Martial Law should include the circumstances that justify the declaration, the justification for the need to declare martial law, the borders of a territory where martial law is declared, forces and means of ensuring the legal regime of martial law, the period of martial law, the date of entry into force of martial law, measures of civil protections and the list of additional commitments that should be done by the citizens of RA and foreign countries, stateless persons and organizations. Roles in the judicial branch[edit]\\\\nThe president of the Republic of Armenia appoints 4 members of the Constitutional Court and, if the National Assembly fails to appoint the president of the Constitutional Court in the period prescribed in Article 83 Clause 1 of the Constitution,[14] appoints the president of the Constitutional Court from among the members of the Constitutional Court.\\\\n\\'}, {\\'url\\': \\'https://www.president.am/en/\\', \\'content\\': \\'26 03, 2024 The President of the Republic received the Ambassador of Greece On the occasion of the Independence Day of Greece, President of the Republic Vahagn Khachaturyan received Ambassador Extraordinary and Plenipotentiary of Greece to Armenia Christos Sofianopoulos. Welcoming the guest, the President, in the person of the Amb assador, congratulated the leadership and people of Greece on ...\\'}]', name='tavily_search_results_json'),\n",
       "  AIMessage(content='The current president of Armenia is Vahagn Khachaturyan. \\n\\nNow, let\\'s reverse the name \"Vahagn Khachaturyan\".', additional_kwargs={'function_call': {'arguments': '{\"text\":\"Vahagn Khachaturyan\"}', 'name': 'reverse_text'}}, response_metadata={'token_usage': {'completion_tokens': 52, 'prompt_tokens': 765, 'total_tokens': 817}, 'model_name': 'gpt-3.5-turbo', 'system_fingerprint': 'fp_3bc1b5746c', 'finish_reason': 'function_call', 'logprobs': None}),\n",
       "  FunctionMessage(content='nayrutahcahK ngahaV', name='reverse_text'),\n",
       "  AIMessage(content='The reversed name of the current president of Armenia, Vahagn Khachaturyan, is \"nayrutahcahK ngahaV\".', response_metadata={'token_usage': {'completion_tokens': 32, 'prompt_tokens': 838, 'total_tokens': 870}, 'model_name': 'gpt-3.5-turbo', 'system_fingerprint': 'fp_3bc1b5746c', 'finish_reason': 'stop', 'logprobs': None})]}"
      ]
     },
     "execution_count": 18,
     "metadata": {},
     "output_type": "execute_result"
    }
   ],
   "source": [
    "from langchain_core.messages import HumanMessage\n",
    "\n",
    "inputs = {\"messages\": [HumanMessage(content=\"Who is the current president of the Armenia? Please reverse the name\")]}\n",
    "app.invoke(inputs)"
   ]
  },
  {
   "cell_type": "code",
   "execution_count": 19,
   "metadata": {},
   "outputs": [],
   "source": [
    "from langchain_core.output_parsers import StrOutputParser\n",
    "\n",
    "str_output_parser = StrOutputParser()"
   ]
  },
  {
   "cell_type": "code",
   "execution_count": 20,
   "metadata": {},
   "outputs": [
    {
     "data": {
      "text/plain": [
       "'The reversed name of the current president of Armenia, Vahagn Khachaturyan, is \"nayrutahcahK ngahaV\".'"
      ]
     },
     "execution_count": 20,
     "metadata": {},
     "output_type": "execute_result"
    }
   ],
   "source": [
    "from langchain_core.runnables import RunnableLambda\n",
    "\n",
    "def extract_output(result):\n",
    "    return result[\"messages\"][-1]\n",
    "\n",
    "final_chain = app | RunnableLambda(extract_output) | str_output_parser\n",
    "final_chain.invoke(inputs)"
   ]
  },
  {
   "cell_type": "code",
   "execution_count": 21,
   "metadata": {},
   "outputs": [
    {
     "data": {
      "image/png": "[encoded data removed]",
      "text/plain": [
       "<IPython.core.display.Image object>"
      ]
     },
     "execution_count": 21,
     "metadata": {},
     "output_type": "execute_result"
    }
   ],
   "source": [
    "from IPython.display import Image\n",
    "Image(app.get_graph().draw_png())"
   ]
  },
  {
   "cell_type": "code",
   "execution_count": null,
   "metadata": {},
   "outputs": [],
   "source": []
  }
 ],
 "metadata": {
  "kernelspec": {
   "display_name": "venv",
   "language": "python",
   "name": "python3"
  },
  "language_info": {
   "codemirror_mode": {
    "name": "ipython",
    "version": 3
   },
   "file_extension": ".py",
   "mimetype": "text/x-python",
   "name": "python",
   "nbconvert_exporter": "python",
   "pygments_lexer": "ipython3",
   "version": "3.11.7"
  }
 },
 "nbformat": 4,
 "nbformat_minor": 2
}
